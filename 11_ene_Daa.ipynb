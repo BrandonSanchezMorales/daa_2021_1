{
  "nbformat": 4,
  "nbformat_minor": 0,
  "metadata": {
    "colab": {
      "name": "11_ene_Daa.ipynb",
      "provenance": [],
      "authorship_tag": "ABX9TyPTh5uemXC4jN20qw5XamPA",
      "include_colab_link": true
    },
    "kernelspec": {
      "name": "python3",
      "display_name": "Python 3"
    }
  },
  "cells": [
    {
      "cell_type": "markdown",
      "metadata": {
        "id": "view-in-github",
        "colab_type": "text"
      },
      "source": [
        "<a href=\"https://colab.research.google.com/github/BrandonSanchezMorales/daa_2021_1/blob/master/11_ene_Daa.ipynb\" target=\"_parent\"><img src=\"https://colab.research.google.com/assets/colab-badge.svg\" alt=\"Open In Colab\"/></a>"
      ]
    },
    {
      "cell_type": "code",
      "metadata": {
        "colab": {
          "base_uri": "https://localhost:8080/",
          "height": 135
        },
        "id": "3FIZ5Th562wZ",
        "outputId": "5eeccca3-8ae8-43b4-967e-e66dccf74e92"
      },
      "source": [
        "class NodoArbol:\r\n",
        "  def_init_( self , value , left=None , rigth=None:\r\n",
        "             self.data = value\r\n",
        "             self.left = left\r\n",
        "             self.rigth = rigth\r\n"
      ],
      "execution_count": 2,
      "outputs": [
        {
          "output_type": "error",
          "ename": "SyntaxError",
          "evalue": "ignored",
          "traceback": [
            "\u001b[0;36m  File \u001b[0;32m\"<ipython-input-2-d374da2c3d37>\"\u001b[0;36m, line \u001b[0;32m2\u001b[0m\n\u001b[0;31m    def_init_( self , value , left=None , rigth=None:\u001b[0m\n\u001b[0m                                                    ^\u001b[0m\n\u001b[0;31mSyntaxError\u001b[0m\u001b[0;31m:\u001b[0m invalid syntax\n"
          ]
        }
      ]
    },
    {
      "cell_type": "code",
      "metadata": {
        "colab": {
          "base_uri": "https://localhost:8080/",
          "height": 171
        },
        "id": "wU3FDb4Y99mx",
        "outputId": "c8a3ccb0-f2fc-4ac9-9a95-4f4e6bafa058"
      },
      "source": [
        "arbol = NodoArbol(\"R\", NodoArbol(\"C\") , NodoArbol(\"H\"))"
      ],
      "execution_count": 3,
      "outputs": [
        {
          "output_type": "error",
          "ename": "NameError",
          "evalue": "ignored",
          "traceback": [
            "\u001b[0;31m---------------------------------------------------------------------------\u001b[0m",
            "\u001b[0;31mNameError\u001b[0m                                 Traceback (most recent call last)",
            "\u001b[0;32m<ipython-input-3-92efd157fbb6>\u001b[0m in \u001b[0;36m<module>\u001b[0;34m()\u001b[0m\n\u001b[0;32m----> 1\u001b[0;31m \u001b[0marbol\u001b[0m \u001b[0;34m=\u001b[0m \u001b[0mNodoArbol\u001b[0m\u001b[0;34m(\u001b[0m\u001b[0;34m\"R\"\u001b[0m\u001b[0;34m,\u001b[0m \u001b[0mNodoArbol\u001b[0m\u001b[0;34m(\u001b[0m\u001b[0;34m\"C\"\u001b[0m\u001b[0;34m)\u001b[0m \u001b[0;34m,\u001b[0m \u001b[0mNodoArbol\u001b[0m\u001b[0;34m(\u001b[0m\u001b[0;34m\"H\"\u001b[0m\u001b[0;34m)\u001b[0m\u001b[0;34m)\u001b[0m\u001b[0;34m\u001b[0m\u001b[0;34m\u001b[0m\u001b[0m\n\u001b[0m",
            "\u001b[0;31mNameError\u001b[0m: name 'NodoArbol' is not defined"
          ]
        }
      ]
    },
    {
      "cell_type": "code",
      "metadata": {
        "id": "p8VPYFMl-LsE"
      },
      "source": [
        "nodo1 = NodoArbol(\"C\") \r\n",
        "nodo2 = NodoArbol(\"H\")\r\n",
        "arbol_v2 = NodoArbol(\"R\", nodo1, nodo2 ) "
      ],
      "execution_count": null,
      "outputs": []
    },
    {
      "cell_type": "code",
      "metadata": {
        "id": "foWRdke1-hNe"
      },
      "source": [
        "print(arbol.rigth.data)\r\n",
        "print(arbol_v2.rigth.data)"
      ],
      "execution_count": null,
      "outputs": []
    },
    {
      "cell_type": "code",
      "metadata": {
        "id": "6P_ggLGe-zh9"
      },
      "source": [
        "arbol2 =NodoArbol(4,NodoArbol(3,NodoArbol(2,NodoArbol(2))),NodoArbol(5))"
      ],
      "execution_count": null,
      "outputs": []
    },
    {
      "cell_type": "code",
      "metadata": {
        "id": "IWecOaAjAH6f"
      },
      "source": [
        "arbol = "
      ],
      "execution_count": null,
      "outputs": []
    }
  ]
}