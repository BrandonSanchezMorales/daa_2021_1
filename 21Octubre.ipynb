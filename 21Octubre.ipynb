{
  "nbformat": 4,
  "nbformat_minor": 0,
  "metadata": {
    "colab": {
      "name": "21Octubre.ipynb",
      "provenance": [],
      "collapsed_sections": [],
      "authorship_tag": "ABX9TyOl3u3qFOqFHi/2NlwQiE8m",
      "include_colab_link": true
    },
    "kernelspec": {
      "name": "python3",
      "display_name": "Python 3"
    }
  },
  "cells": [
    {
      "cell_type": "markdown",
      "metadata": {
        "id": "view-in-github",
        "colab_type": "text"
      },
      "source": [
        "<a href=\"https://colab.research.google.com/github/BrandonSanchezMorales/daa_2021_1/blob/master/21Octubre.ipynb\" target=\"_parent\"><img src=\"https://colab.research.google.com/assets/colab-badge.svg\" alt=\"Open In Colab\"/></a>"
      ]
    },
    {
      "cell_type": "code",
      "metadata": {
        "id": "XNG2P_phezov",
        "outputId": "81a97244-8991-43da-86c9-fa54dcd985db",
        "colab": {
          "base_uri": "https://localhost:8080/",
          "height": 381
        }
      },
      "source": [
        "from time import time\n",
        "def ejemplo1 (n):\n",
        "  start_time = time()\n",
        "  c = n + 1\n",
        "  d = c * n\n",
        "  e = n * n\n",
        "  total = c + e - d\n",
        "  print (f\"total ={total}\")\n",
        "  elapsed_time = time() - start_time\n",
        "  print(\"Tiempo transcurrido: %0.10f segundos.\" % elapsed_time)\n",
        "for entrada in range (100, 1100, 100):\n",
        "  ejemplo1 (entrada)\n"
      ],
      "execution_count": null,
      "outputs": [
        {
          "output_type": "stream",
          "text": [
            "total =1\n",
            "Tiempo transcurrido: 0.0000777245 segundos.\n",
            "total =1\n",
            "Tiempo transcurrido: 0.0000255108 segundos.\n",
            "total =1\n",
            "Tiempo transcurrido: 0.0000305176 segundos.\n",
            "total =1\n",
            "Tiempo transcurrido: 0.0000183582 segundos.\n",
            "total =1\n",
            "Tiempo transcurrido: 0.0002417564 segundos.\n",
            "total =1\n",
            "Tiempo transcurrido: 0.0000224113 segundos.\n",
            "total =1\n",
            "Tiempo transcurrido: 0.0000219345 segundos.\n",
            "total =1\n",
            "Tiempo transcurrido: 0.0000309944 segundos.\n",
            "total =1\n",
            "Tiempo transcurrido: 0.0000181198 segundos.\n",
            "total =1\n",
            "Tiempo transcurrido: 0.0000267029 segundos.\n"
          ],
          "name": "stdout"
        }
      ]
    },
    {
      "cell_type": "code",
      "metadata": {
        "id": "fOHwxZwTaJH2",
        "outputId": "c617ee00-9c99-4057-b526-779df334e02d",
        "colab": {
          "base_uri": "https://localhost:8080/",
          "height": 199
        }
      },
      "source": [
        "from time import time\n",
        "def ejemplo2( n ):\n",
        "  start_time = time()\n",
        "  contador = 0\n",
        "  for i in range( n ) :\n",
        "      for j in range( n ) :\n",
        "          contador += 1\n",
        "  elapsed_time = time() - start_time\n",
        "  print(\"Tiempo transcurrido: %0.10f segundos.\" % elapsed_time)\n",
        "  return contador\n",
        "\n",
        "for entrada in range (100, 1100, 100):\n",
        "  ejemplo2(entrada)"
      ],
      "execution_count": null,
      "outputs": [
        {
          "output_type": "stream",
          "text": [
            "Tiempo transcurrido: 0.0008134842 segundos.\n",
            "Tiempo transcurrido: 0.0034887791 segundos.\n",
            "Tiempo transcurrido: 0.0060915947 segundos.\n",
            "Tiempo transcurrido: 0.0118885040 segundos.\n",
            "Tiempo transcurrido: 0.0129354000 segundos.\n",
            "Tiempo transcurrido: 0.0191607475 segundos.\n",
            "Tiempo transcurrido: 0.0251653194 segundos.\n",
            "Tiempo transcurrido: 0.0333249569 segundos.\n",
            "Tiempo transcurrido: 0.0417547226 segundos.\n",
            "Tiempo transcurrido: 0.0518300533 segundos.\n"
          ],
          "name": "stdout"
        }
      ]
    },
    {
      "cell_type": "code",
      "metadata": {
        "id": "A5UtHJY_dbW_",
        "outputId": "f005191d-f7f1-4391-bcc9-5bf8b3b7d0fb",
        "colab": {
          "base_uri": "https://localhost:8080/",
          "height": 199
        }
      },
      "source": [
        "from time import time\n",
        "def ejemplo3  (n):\n",
        "  start_time = time()\n",
        "  x = n*2\n",
        "  y= 0\n",
        "  for m in range (100):\n",
        "    y = x - n \n",
        "  elapsed_time = time() - start_time\n",
        "  print(\"Tiempo transcurrido: %0.10f segundos.\" % elapsed_time)\n",
        "  return y\n",
        "for entrada in range (100, 1100, 100):\n",
        "  ejemplo3 (entrada)"
      ],
      "execution_count": null,
      "outputs": [
        {
          "output_type": "stream",
          "text": [
            "Tiempo transcurrido: 0.0000071526 segundos.\n",
            "Tiempo transcurrido: 0.0000076294 segundos.\n",
            "Tiempo transcurrido: 0.0000095367 segundos.\n",
            "Tiempo transcurrido: 0.0000088215 segundos.\n",
            "Tiempo transcurrido: 0.0000119209 segundos.\n",
            "Tiempo transcurrido: 0.0000090599 segundos.\n",
            "Tiempo transcurrido: 0.0000088215 segundos.\n",
            "Tiempo transcurrido: 0.0000085831 segundos.\n",
            "Tiempo transcurrido: 0.0000438690 segundos.\n",
            "Tiempo transcurrido: 0.0000102520 segundos.\n"
          ],
          "name": "stdout"
        }
      ]
    },
    {
      "cell_type": "code",
      "metadata": {
        "id": "mSC03CQvfsJD",
        "outputId": "164f00ba-4885-4ca2-87bb-4f7d2e7463ae",
        "colab": {
          "base_uri": "https://localhost:8080/",
          "height": 199
        }
      },
      "source": [
        "from time import time\n",
        "def ejemplo4( n ):\n",
        "  start_time = time()\n",
        "  x = 3 * 3.1416 + n\n",
        "  y = x + 3 * 3 - n\n",
        "  z = x + y\n",
        "  elapsed_time = time() - start_time\n",
        "  print(\"Tiempo transcurrido: %0.10f segundos.\" % elapsed_time)\n",
        "  return z\n",
        "\n",
        "for entrada in range (100, 1100, 100):\n",
        "  ejemplo4 (entrada)"
      ],
      "execution_count": null,
      "outputs": [
        {
          "output_type": "stream",
          "text": [
            "Tiempo transcurrido: 0.0000016689 segundos.\n",
            "Tiempo transcurrido: 0.0000009537 segundos.\n",
            "Tiempo transcurrido: 0.0000004768 segundos.\n",
            "Tiempo transcurrido: 0.0000011921 segundos.\n",
            "Tiempo transcurrido: 0.0000004768 segundos.\n",
            "Tiempo transcurrido: 0.0000004768 segundos.\n",
            "Tiempo transcurrido: 0.0000004768 segundos.\n",
            "Tiempo transcurrido: 0.0000004768 segundos.\n",
            "Tiempo transcurrido: 0.0000004768 segundos.\n",
            "Tiempo transcurrido: 0.0000002384 segundos.\n"
          ],
          "name": "stdout"
        }
      ]
    },
    {
      "cell_type": "code",
      "metadata": {
        "id": "D_DWSHDkg6R3",
        "outputId": "3d8124ce-1ed4-4f4c-c79c-5474cb4292db",
        "colab": {
          "base_uri": "https://localhost:8080/",
          "height": 199
        }
      },
      "source": [
        "from time import time\n",
        "def ejemplo5( x ):\n",
        "  start_time = time()\n",
        "  n = 10\n",
        "  for j in range( 0 , x , 1 ):\n",
        "    n = j + n\n",
        "  elapsed_time = time() - start_time\n",
        "  print(\"Tiempo transcurrido: %0.10f segundos.\" % elapsed_time)\n",
        "  return n\n",
        "\n",
        "for entrada in range (100, 1100, 100):\n",
        "  ejemplo5(entrada)"
      ],
      "execution_count": null,
      "outputs": [
        {
          "output_type": "stream",
          "text": [
            "Tiempo transcurrido: 0.0000069141 segundos.\n",
            "Tiempo transcurrido: 0.0000164509 segundos.\n",
            "Tiempo transcurrido: 0.0000262260 segundos.\n",
            "Tiempo transcurrido: 0.0000357628 segundos.\n",
            "Tiempo transcurrido: 0.0000476837 segundos.\n",
            "Tiempo transcurrido: 0.0000419617 segundos.\n",
            "Tiempo transcurrido: 0.0001599789 segundos.\n",
            "Tiempo transcurrido: 0.0000612736 segundos.\n",
            "Tiempo transcurrido: 0.0000638962 segundos.\n",
            "Tiempo transcurrido: 0.0000746250 segundos.\n"
          ],
          "name": "stdout"
        }
      ]
    },
    {
      "cell_type": "code",
      "metadata": {
        "id": "6Xz4coWHhWr8",
        "outputId": "eefe4b58-e527-411b-aa44-77cc50bc7eb9",
        "colab": {
          "base_uri": "https://localhost:8080/",
          "height": 199
        }
      },
      "source": [
        "from time import time\n",
        "def ejemplo6( n ):\n",
        "    start_time = time()\n",
        "    data=[[[1 for x in range(n)] for x in range(n)] \n",
        "          for x in range(n)]\n",
        "    suma = 0\n",
        "    for d in range(n):\n",
        "        for r in range(n):\n",
        "            for c in range(n):\n",
        "                suma += data[d][r][c]\n",
        "    elapsed_time = time() - start_time\n",
        "    print(\"Tiempo transcurrido: %0.10f segundos.\" % elapsed_time)\n",
        "    return suma\n",
        "for entrada in range (100 ,1100, 100):\n",
        "  ejemplo6 (entrada)"
      ],
      "execution_count": null,
      "outputs": [
        {
          "output_type": "stream",
          "text": [
            "Tiempo transcurrido: 0.1371974945 segundos.\n",
            "Tiempo transcurrido: 1.2058935165 segundos.\n",
            "Tiempo transcurrido: 3.9756972790 segundos.\n",
            "Tiempo transcurrido: 9.4739599228 segundos.\n",
            "Tiempo transcurrido: 19.0953044891 segundos.\n",
            "Tiempo transcurrido: 35.4191138744 segundos.\n",
            "Tiempo transcurrido: 58.4481332302 segundos.\n",
            "Tiempo transcurrido: 84.1135914326 segundos.\n",
            "Tiempo transcurrido: 120.7185733318 segundos.\n",
            "Tiempo transcurrido: 170.1076591015 segundos.\n"
          ],
          "name": "stdout"
        }
      ]
    },
    {
      "cell_type": "code",
      "metadata": {
        "id": "GVISbTjciXdG"
      },
      "source": [
        "def ejemplo7( n ):\n",
        "    count = 0\n",
        "    for i in range( n ) :\n",
        "        for j in range( 25 ) :\n",
        "            for k in range( n ):\n",
        "                count += 1\n",
        "                for k in range( n ):\n",
        "                  count += 1\n",
        "    return count\n",
        "# 1 + 25n^2 + n\n",
        "# 1+5 50 n^2\n",
        "# 1+25n+n^2\n",
        "# 1+25n+n^2\n",
        "# 1 + 25n + n^2"
      ],
      "execution_count": 2,
      "outputs": []
    },
    {
      "cell_type": "code",
      "metadata": {
        "id": "8z6Tgauqo8eu",
        "outputId": "d16f5049-0337-4c60-c798-ac8265952617",
        "colab": {
          "base_uri": "https://localhost:8080/",
          "height": 35
        }
      },
      "source": [
        "def ejemplo7_2( n ):\n",
        "    count = 0\n",
        "    for i in range( n ) :\n",
        "        for j in range( 25 ) :\n",
        "            for k in range( n ):\n",
        "                count += 1\n",
        "            for k in range( n ):\n",
        "                count += 1\n",
        "    return count # 1 + 25n^2 +25n^2\n",
        "ejemplo7_2( 3 )"
      ],
      "execution_count": 5,
      "outputs": [
        {
          "output_type": "execute_result",
          "data": {
            "text/plain": [
              "450"
            ]
          },
          "metadata": {
            "tags": []
          },
          "execution_count": 5
        }
      ]
    },
    {
      "cell_type": "code",
      "metadata": {
        "id": "bxjp7e6824kP",
        "outputId": "57439736-d1c0-4add-f779-5345fd19b580",
        "colab": {
          "base_uri": "https://localhost:8080/",
          "height": 207
        }
      },
      "source": [
        "def ejemplo8( numeros ): # numeros es una lista (arreglo en c)\n",
        "    total = 0\n",
        "    for index in range(len(numeros)):\n",
        "        total = numeros[index]\n",
        "    return total\n",
        "ejemplo8(numeros)"
      ],
      "execution_count": 6,
      "outputs": [
        {
          "output_type": "error",
          "ename": "NameError",
          "evalue": "ignored",
          "traceback": [
            "\u001b[0;31m---------------------------------------------------------------------------\u001b[0m",
            "\u001b[0;31mNameError\u001b[0m                                 Traceback (most recent call last)",
            "\u001b[0;32m<ipython-input-6-556810b17cd8>\u001b[0m in \u001b[0;36m<module>\u001b[0;34m()\u001b[0m\n\u001b[1;32m      4\u001b[0m         \u001b[0mtotal\u001b[0m \u001b[0;34m=\u001b[0m \u001b[0mnumeros\u001b[0m\u001b[0;34m[\u001b[0m\u001b[0mindex\u001b[0m\u001b[0;34m]\u001b[0m\u001b[0;34m\u001b[0m\u001b[0;34m\u001b[0m\u001b[0m\n\u001b[1;32m      5\u001b[0m     \u001b[0;32mreturn\u001b[0m \u001b[0mtotal\u001b[0m\u001b[0;34m\u001b[0m\u001b[0;34m\u001b[0m\u001b[0m\n\u001b[0;32m----> 6\u001b[0;31m \u001b[0mejemplo8\u001b[0m\u001b[0;34m(\u001b[0m\u001b[0mnumeros\u001b[0m\u001b[0;34m)\u001b[0m\u001b[0;34m\u001b[0m\u001b[0;34m\u001b[0m\u001b[0m\n\u001b[0m",
            "\u001b[0;31mNameError\u001b[0m: name 'numeros' is not defined"
          ]
        }
      ]
    },
    {
      "cell_type": "code",
      "metadata": {
        "id": "RJXIJQ_a3syp"
      },
      "source": [
        "def ejemplo9(  n ):\n",
        "    contador = 0\n",
        "    basura = 0\n",
        "    for i in range( n ) :\n",
        "        contador += 1\n",
        "    for j in range( n ) :\n",
        "        contador += 1\n",
        "    basura = basura + contador\n",
        "    return contador"
      ],
      "execution_count": 8,
      "outputs": []
    },
    {
      "cell_type": "code",
      "metadata": {
        "id": "e7RvbRYl4wrs"
      },
      "source": [
        "def ejemplo10( n ):\n",
        "    count = 0\n",
        "    for i in range( n ) :\n",
        "        for j in range( i+1 ) :\n",
        "            count += 1\n",
        "    return count"
      ],
      "execution_count": 9,
      "outputs": []
    }
  ]
}