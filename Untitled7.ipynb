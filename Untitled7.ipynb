{
  "nbformat": 4,
  "nbformat_minor": 0,
  "metadata": {
    "colab": {
      "name": "Untitled7.ipynb",
      "provenance": [],
      "collapsed_sections": [],
      "authorship_tag": "ABX9TyO4h5ghZis7aFCfeCpuU8aB",
      "include_colab_link": true
    },
    "kernelspec": {
      "name": "python3",
      "display_name": "Python 3"
    }
  },
  "cells": [
    {
      "cell_type": "markdown",
      "metadata": {
        "id": "view-in-github",
        "colab_type": "text"
      },
      "source": [
        "<a href=\"https://colab.research.google.com/github/BrandonSanchezMorales/daa_2021_1/blob/master/Untitled7.ipynb\" target=\"_parent\"><img src=\"https://colab.research.google.com/assets/colab-badge.svg\" alt=\"Open In Colab\"/></a>"
      ]
    },
    {
      "cell_type": "markdown",
      "metadata": {
        "id": "8RT6q9H7hq0d"
      },
      "source": [
        "# **Red del metro CDMX**\r\n"
      ]
    },
    {
      "cell_type": "code",
      "metadata": {
        "id": "JnA4uIKFWSX2"
      },
      "source": [
        "import pandas as pd\r\n",
        "import numpy as np\r\n",
        "import networkx as nx"
      ],
      "execution_count": 7,
      "outputs": []
    },
    {
      "cell_type": "code",
      "metadata": {
        "id": "DSvZHLSbWd1F"
      },
      "source": [
        "df = pd.read_excel('metro.xlsx')"
      ],
      "execution_count": 8,
      "outputs": []
    },
    {
      "cell_type": "code",
      "metadata": {
        "colab": {
          "base_uri": "https://localhost:8080/",
          "height": 198
        },
        "id": "zlCmCIteb2l-",
        "outputId": "ded328ab-0450-43b9-ac6a-f0863d463b98"
      },
      "source": [
        "df.head()"
      ],
      "execution_count": 9,
      "outputs": [
        {
          "output_type": "execute_result",
          "data": {
            "text/html": [
              "<div>\n",
              "<style scoped>\n",
              "    .dataframe tbody tr th:only-of-type {\n",
              "        vertical-align: middle;\n",
              "    }\n",
              "\n",
              "    .dataframe tbody tr th {\n",
              "        vertical-align: top;\n",
              "    }\n",
              "\n",
              "    .dataframe thead th {\n",
              "        text-align: right;\n",
              "    }\n",
              "</style>\n",
              "<table border=\"1\" class=\"dataframe\">\n",
              "  <thead>\n",
              "    <tr style=\"text-align: right;\">\n",
              "      <th></th>\n",
              "      <th>Origen</th>\n",
              "      <th>Destino</th>\n",
              "      <th>Longitud de interestación</th>\n",
              "    </tr>\n",
              "  </thead>\n",
              "  <tbody>\n",
              "    <tr>\n",
              "      <th>0</th>\n",
              "      <td>Pantitlán</td>\n",
              "      <td>Zaragoza</td>\n",
              "      <td>1320</td>\n",
              "    </tr>\n",
              "    <tr>\n",
              "      <th>1</th>\n",
              "      <td>Zaragoza</td>\n",
              "      <td>Gómez Farías</td>\n",
              "      <td>762</td>\n",
              "    </tr>\n",
              "    <tr>\n",
              "      <th>2</th>\n",
              "      <td>Gómez Farías</td>\n",
              "      <td>Boulevard Puerto Aéreo</td>\n",
              "      <td>611</td>\n",
              "    </tr>\n",
              "    <tr>\n",
              "      <th>3</th>\n",
              "      <td>Boulevard Puerto Aéreo</td>\n",
              "      <td>Balbuena</td>\n",
              "      <td>595</td>\n",
              "    </tr>\n",
              "    <tr>\n",
              "      <th>4</th>\n",
              "      <td>Balbuena</td>\n",
              "      <td>Moctezuma</td>\n",
              "      <td>703</td>\n",
              "    </tr>\n",
              "  </tbody>\n",
              "</table>\n",
              "</div>"
            ],
            "text/plain": [
              "                   Origen                 Destino  Longitud de interestación\n",
              "0               Pantitlán                Zaragoza                       1320\n",
              "1                Zaragoza            Gómez Farías                        762\n",
              "2            Gómez Farías  Boulevard Puerto Aéreo                        611\n",
              "3  Boulevard Puerto Aéreo                Balbuena                        595\n",
              "4                Balbuena               Moctezuma                        703"
            ]
          },
          "metadata": {
            "tags": []
          },
          "execution_count": 9
        }
      ]
    },
    {
      "cell_type": "markdown",
      "metadata": {
        "id": "dlhArXJJiXcE"
      },
      "source": [
        "#**Ruta corta** :Se trata de un modelo de red (debido a la forma de diagrama de red usado para su representación), donde cada arco o rama que une dos nodos (elementos) que forman dicha red, viene caracterizado por un valor que representa la distancia (costo o tiempo) desde el nodo origen hasta el nodo destino.\r\n",
        "\r\n",
        "\r\n",
        "\r\n"
      ]
    },
    {
      "cell_type": "code",
      "metadata": {
        "id": "OJgmlKsBc-9p"
      },
      "source": [
        "METRO = nx.from_pandas_edgelist(df,source='Origen',target='Destino',edge_attr='Longitud de interestación')"
      ],
      "execution_count": 11,
      "outputs": []
    },
    {
      "cell_type": "code",
      "metadata": {
        "colab": {
          "base_uri": "https://localhost:8080/"
        },
        "id": "7kgvC52Oes5Q",
        "outputId": "b7e9cf4a-16a3-4586-98cd-558554e44af7"
      },
      "source": [
        "djk_path= nx.dijkstra_path(METRO, source='Nezahualcóyotl', target='Universidad', weight='Longitud de interestación')\r\n",
        "djk_path"
      ],
      "execution_count": 12,
      "outputs": [
        {
          "output_type": "execute_result",
          "data": {
            "text/plain": [
              "['Nezahualcóyotl',\n",
              " 'Villa de Aragón',\n",
              " 'Bosques de Aragón',\n",
              " 'Deportivo Oceanía',\n",
              " 'Oceanía',\n",
              " 'Romero Rubio',\n",
              " 'Ricardo Flores Magón',\n",
              " 'San Lázaro',\n",
              " 'Candelaria',\n",
              " 'Merced',\n",
              " 'Pino Suárez',\n",
              " 'Isabel la Católica',\n",
              " 'Salto del Agua',\n",
              " 'Balderas',\n",
              " 'Niños Héroes',\n",
              " 'Hospital General',\n",
              " 'Centro Médico',\n",
              " 'Etiopía/Plaza de la Transparencia',\n",
              " 'Eugenia',\n",
              " 'División del Norte',\n",
              " 'Zapata',\n",
              " 'Coyoacán',\n",
              " 'Viveros/Derechos Humanos',\n",
              " 'Miguel Ángel de Quevedo',\n",
              " 'Copilco',\n",
              " 'Universidad']"
            ]
          },
          "metadata": {
            "tags": []
          },
          "execution_count": 12
        }
      ]
    },
    {
      "cell_type": "code",
      "metadata": {
        "colab": {
          "base_uri": "https://localhost:8080/"
        },
        "id": "VMJdWrAlfUUx",
        "outputId": "7dafc915-a442-41c8-89f1-63237ba9fafc"
      },
      "source": [
        "len(djk_path)"
      ],
      "execution_count": 13,
      "outputs": [
        {
          "output_type": "execute_result",
          "data": {
            "text/plain": [
              "26"
            ]
          },
          "metadata": {
            "tags": []
          },
          "execution_count": 13
        }
      ]
    },
    {
      "cell_type": "code",
      "metadata": {
        "colab": {
          "base_uri": "https://localhost:8080/"
        },
        "id": "lRKkIxqLfWoo",
        "outputId": "b8494bc0-02f6-4814-df1b-31671797288b"
      },
      "source": [
        "nx.dijkstra_path_length(METRO, 'Nezahualcóyotl', 'Universidad', 'Longitud de interestación')"
      ],
      "execution_count": 15,
      "outputs": [
        {
          "output_type": "execute_result",
          "data": {
            "text/plain": [
              "21306"
            ]
          },
          "metadata": {
            "tags": []
          },
          "execution_count": 15
        }
      ]
    },
    {
      "cell_type": "code",
      "metadata": {
        "id": "mmSjfmrAfWxI"
      },
      "source": [
        "centralidad_intermediacion = nx.betweenness_centrality(METRO)"
      ],
      "execution_count": 16,
      "outputs": []
    },
    {
      "cell_type": "code",
      "metadata": {
        "colab": {
          "base_uri": "https://localhost:8080/"
        },
        "id": "Uc4IBIs5fWz3",
        "outputId": "98b61b5f-b148-45b7-be74-9ed6b76d4cd7"
      },
      "source": [
        "sorted(centralidad_intermediacion.items(), key=lambda x:x[1])"
      ],
      "execution_count": 17,
      "outputs": [
        {
          "output_type": "execute_result",
          "data": {
            "text/plain": [
              "[('Observatorio', 0.0),\n",
              " ('Cuatro Caminos', 0.0),\n",
              " ('Tasqueña', 0.0),\n",
              " ('Indios Verdes', 0.0),\n",
              " ('Universidad', 0.0),\n",
              " ('Politécnico', 0.0),\n",
              " ('Barranca del Muerto', 0.0),\n",
              " ('Constitución de 1917', 0.0),\n",
              " ('La Paz', 0.0),\n",
              " ('Ciudad Azteca', 0.0),\n",
              " ('Buenavista', 0.0),\n",
              " ('Tláhuac', 0.0),\n",
              " ('Lindavista', 0.006140888991130538),\n",
              " ('Gómez Farías', 0.010320016358663704),\n",
              " ('Panteones', 0.012345679012345678),\n",
              " ('General Anaya', 0.012345679012345678),\n",
              " ('Copilco', 0.012345679012345678),\n",
              " ('UAM I', 0.012345679012345678),\n",
              " ('Los Reyes', 0.012345679012345678),\n",
              " ('Plaza Aragón', 0.012345679012345678),\n",
              " ('Tlaltenco', 0.012345679012345678),\n",
              " ('Zaragoza', 0.012805766428954833),\n",
              " ('La Villa – Basílica', 0.013461880203311048),\n",
              " ('Boulevard Puerto Aéreo', 0.016007208036193536),\n",
              " ('Martín Carrera', 0.01642560997863502),\n",
              " ('Chapultepec', 0.01674526493367073),\n",
              " ('Sevilla', 0.017780461621041327),\n",
              " ('Isabel la Católica', 0.020072591570176112),\n",
              " ('La Viga', 0.02033330777292131),\n",
              " ('Allende', 0.02081920839684815),\n",
              " ('Juanacatlán', 0.02098190322828003),\n",
              " ('San Juan de Letrán', 0.021761535587162442),\n",
              " ('Talismán', 0.023006138056747685),\n",
              " ('El Rosario', 0.023690667893566456),\n",
              " ('Tezozómoc', 0.02390537535465073),\n",
              " ('Insurgentes', 0.023991641745264927),\n",
              " ('Miguel Ángel de Quevedo', 0.024537995552488305),\n",
              " ('Cerro de la Estrella', 0.024537995552488305),\n",
              " ('Santa Marta', 0.024537995552488305),\n",
              " ('Olímpica', 0.024537995552488305),\n",
              " ('Zapotitlán', 0.024537995552488305),\n",
              " ('Balbuena', 0.02528563760447819),\n",
              " ('Aquíles Serdán', 0.02581473813357872),\n",
              " ('Zócalo', 0.025931290803616554),\n",
              " ('Azcapotzalco', 0.027586074687523977),\n",
              " ('Potrero', 0.027879440103387713),\n",
              " ('Merced', 0.030309536589729832),\n",
              " ('Deportivo 18 de Marzo', 0.03041935624463798),\n",
              " ('Camarones', 0.030505073741788718),\n",
              " ('Bondojito', 0.03234846865511697),\n",
              " ('Cuitláhuac', 0.03261039967964283),\n",
              " ('Cuauhtémoc', 0.03309114842931269),\n",
              " ('Popotla', 0.03337082193764963),\n",
              " ('Ferrería', 0.03456406717276284),\n",
              " ('Moctezuma', 0.035177517061575035),\n",
              " ('Viveros/Derechos Humanos', 0.03657694962042788),\n",
              " ('Iztapalapa', 0.03657694962042788),\n",
              " ('Acatitla', 0.03657694962042788),\n",
              " ('Ecatepec', 0.03657694962042788),\n",
              " ('Nopalera', 0.03657694962042788),\n",
              " ('San Antonio Abad', 0.03672034072310126),\n",
              " ('Refinería', 0.037987884364695954),\n",
              " ('Colegio Militar', 0.039121914645264086),\n",
              " ('Norte 45', 0.042999003143930674),\n",
              " ('Lagunilla', 0.044633591493494856),\n",
              " ('Doctores', 0.04540653414014351),\n",
              " ('Portales', 0.046771233095134646),\n",
              " ('Normal', 0.04755685061643193),\n",
              " ('Tepito', 0.04794579488621355),\n",
              " ('Coyoacán', 0.048462541216164404),\n",
              " ('Peñón Viejo', 0.048462541216164404),\n",
              " ('Múzquiz', 0.048462541216164404),\n",
              " ('Olivos', 0.048462541216164404),\n",
              " ('Obrera', 0.0496802350322019),\n",
              " ('Hangares', 0.050878000153362475),\n",
              " ('Niños Héroes', 0.05166638671929676),\n",
              " ('Vallejo', 0.05212407024001224),\n",
              " ('Terminal Aérea', 0.052191805331901944),\n",
              " ('Nativitas', 0.052317842506478356),\n",
              " ('Hospital General', 0.054778366884417014),\n",
              " ('Garibaldi', 0.05492361415986906),\n",
              " ('Insurgentes Sur', 0.05583672008792784),\n",
              " ('San Cosme', 0.05668191771251354),\n",
              " ('Villa de Cortés', 0.058784626751040354),\n",
              " ('Bellas Artes', 0.05907679490035133),\n",
              " ('Aragón', 0.05997367277560512),\n",
              " ('Guelatao', 0.06019477033969787),\n",
              " ('Río de los Remedios', 0.06019477033969787),\n",
              " ('Tezonco', 0.06019477033969787),\n",
              " ('Hospital 20 de Noviembre', 0.06358152493418195),\n",
              " ('Eduardo Molina', 0.06430616261534133),\n",
              " ('Pino Suárez', 0.0643843746673284),\n",
              " ('Mixcoac', 0.0645272601794341),\n",
              " ('Xola', 0.06559647655805928),\n",
              " ('Revolución', 0.06647155552147502),\n",
              " ('San Joaquín', 0.06692014075266894),\n",
              " ('San Antonio', 0.06778621271374895),\n",
              " ('Juárez', 0.07107794202917277),\n",
              " ('Tepalcates', 0.07177363699102829),\n",
              " ('Impulsora', 0.07177363699102829),\n",
              " ('Periférico Oriente', 0.07177363699102829),\n",
              " ('Polanco', 0.07244885787558897),\n",
              " ('Salto del Agua', 0.07283328225932315),\n",
              " ('Viaducto', 0.07329016058024572),\n",
              " ('Eje Central', 0.0743851199452764),\n",
              " ('San Pedro de los Pinos', 0.07440635943051403),\n",
              " ('Mexicaltzingo', 0.07696240063389823),\n",
              " ('Parque de los Venados', 0.07722999380464299),\n",
              " ('Instituto del Petróleo', 0.07764239771083556),\n",
              " ('Autobuses del Norte', 0.07894342268335812),\n",
              " ('Auditorio', 0.07963090765023134),\n",
              " ('Canal de San Juan', 0.08319914117015566),\n",
              " ('Nezahualcóyotl', 0.08319914117015566),\n",
              " ('Calle 11', 0.08319914117015566),\n",
              " ('Tlatelolco', 0.0834565031539957),\n",
              " ('División del Norte', 0.08557546833369237),\n",
              " ('Tacuba', 0.0856124700730176),\n",
              " ('Misterios', 0.08700028341160151),\n",
              " ('Constituyentes', 0.08828012507561622),\n",
              " ('Canal del Norte', 0.08849861276247287),\n",
              " ('Valle Gómez', 0.08996401318692548),\n",
              " ('Eugenia', 0.09201669216622056),\n",
              " ('Puebla', 0.0922692533803645),\n",
              " ('Agrícola Oriental', 0.09447128287707997),\n",
              " ('Villa de Aragón', 0.09447128287707997),\n",
              " ('Lomas Estrella', 0.09447128287707997),\n",
              " ('Patriotismo', 0.09462613637331838),\n",
              " ('Ciudad Deportiva', 0.09708739104874371),\n",
              " ('Etiopía/Plaza de la Transparencia', 0.09876464094315483),\n",
              " ('Chilpancingo', 0.10260098492787706),\n",
              " ('Velódromo', 0.10379699920762721),\n",
              " ('Bosques de Aragón', 0.10559006211180123),\n",
              " ('San Andrés Tomatlán', 0.10559006211180123),\n",
              " ('Romero Rubio', 0.1074189095928226),\n",
              " ('Balderas', 0.11050146953643612),\n",
              " ('Mixiuhca', 0.11197633105845664),\n",
              " ('Guerrero', 0.11269314144860489),\n",
              " ('Ricardo Flores Magón', 0.11356618868696158),\n",
              " ('Ermita', 0.11499629374025504),\n",
              " ('Escuadrón 201', 0.11525700994300028),\n",
              " ('Deportivo Oceanía', 0.11655547887431944),\n",
              " ('Culhuacán', 0.11655547887431944),\n",
              " ('Aculco', 0.1210592234746824),\n",
              " ('Apatlaco', 0.12755156813127824),\n",
              " ('Iztacalco', 0.13440175855634795),\n",
              " ('Pantitlán', 0.13567083301382818),\n",
              " ('Hidalgo', 0.14084832151889884),\n",
              " ('Coyuya', 0.14212100299056823),\n",
              " ('Morelos', 0.1460423423673942),\n",
              " ('Consulado', 0.14842116471401043),\n",
              " ('La Raza', 0.14861158042087413),\n",
              " ('Zapata', 0.14892694955956978),\n",
              " ('Santa Anita', 0.1528756224264621),\n",
              " ('Tacubaya', 0.1553161396961719),\n",
              " ('Lázaro Cardenas', 0.15592319948197564),\n",
              " ('San Lázaro', 0.1643738977072309),\n",
              " ('Oceanía', 0.17681159420289855),\n",
              " ('Atlalilco', 0.18209748741149703),\n",
              " ('Fray Servando', 0.19704431051912072),\n",
              " ('Centro Médico', 0.21687440587256546),\n",
              " ('Candelaria', 0.2291558561572364),\n",
              " ('Chabacano', 0.2870386041337271),\n",
              " ('Jamaica', 0.3317885785967223)]"
            ]
          },
          "metadata": {
            "tags": []
          },
          "execution_count": 17
        }
      ]
    },
    {
      "cell_type": "code",
      "metadata": {
        "id": "zOQD-VXNg5ww"
      },
      "source": [
        "intermediacion_10=['Jamaica','Chabacano','Candelaria','Centro Médico','Fray Servando','Atlalilco','Oceanía','San Lázaro','Tacubaya','Santa Anita']"
      ],
      "execution_count": 18,
      "outputs": []
    },
    {
      "cell_type": "code",
      "metadata": {
        "id": "Zm4a6nJphE4-"
      },
      "source": [
        "intermediacion_10=set(intermediacion_10)"
      ],
      "execution_count": 19,
      "outputs": []
    },
    {
      "cell_type": "code",
      "metadata": {
        "id": "RMYK5F1YhGIP"
      },
      "source": [
        "menor_afluencia=['Deptvo. 18 de Marzo','Santa Anita ','Tlaltenco','Inst. del Petróleo','Bosque de Aragón ','Consulado','Chabacano','Valle Gómez','Consulado']\r\n",
        "menor_afluencia=set(menor_afluencia)"
      ],
      "execution_count": 20,
      "outputs": []
    },
    {
      "cell_type": "code",
      "metadata": {
        "colab": {
          "base_uri": "https://localhost:8080/"
        },
        "id": "ZeWVkKA0hhKF",
        "outputId": "4f1319c6-1103-4a71-8f82-5c565135c890"
      },
      "source": [
        "menor_afluencia.intersection(intermediacion_10)"
      ],
      "execution_count": 21,
      "outputs": [
        {
          "output_type": "execute_result",
          "data": {
            "text/plain": [
              "{'Chabacano'}"
            ]
          },
          "metadata": {
            "tags": []
          },
          "execution_count": 21
        }
      ]
    },
    {
      "cell_type": "code",
      "metadata": {
        "colab": {
          "base_uri": "https://localhost:8080/",
          "height": 319
        },
        "id": "pSSyljJvjlwt",
        "outputId": "36571603-75ac-4f65-b49c-969c1b1f7a1a"
      },
      "source": [
        "ruta1 = METRO.subgraph(['Nezahualcóyotl',\r\n",
        " 'Villa de Aragón',\r\n",
        " 'Bosques de Aragón',\r\n",
        " 'Deportivo Oceanía',\r\n",
        " 'Oceanía',\r\n",
        " 'Romero Rubio',\r\n",
        " 'Ricardo Flores Magón',\r\n",
        " 'San Lázaro',\r\n",
        " 'Candelaria',\r\n",
        " 'Merced',\r\n",
        " 'Pino Suárez',\r\n",
        " 'Isabel la Católica',\r\n",
        " 'Salto del Agua',\r\n",
        " 'Balderas',\r\n",
        " 'Niños Héroes',\r\n",
        " 'Hospital General',\r\n",
        " 'Centro Médico',\r\n",
        " 'Etiopía/Plaza de la Transparencia',\r\n",
        " 'Eugenia',\r\n",
        " 'División del Norte',\r\n",
        " 'Zapata',\r\n",
        " 'Coyoacán',\r\n",
        " 'Viveros/Derechos Humanos',\r\n",
        " 'Miguel Ángel de Quevedo',\r\n",
        " 'Copilco',\r\n",
        " 'Universidad'])\r\n",
        "nx.draw(ruta1,with_labels=True)"
      ],
      "execution_count": 23,
      "outputs": [
        {
          "output_type": "display_data",
          "data": {
            "image/png": "[encoded data removed]",
            "text/plain": [
              "<Figure size 432x288 with 1 Axes>"
            ]
          },
          "metadata": {
            "tags": []
          }
        }
      ]
    }
  ]
}