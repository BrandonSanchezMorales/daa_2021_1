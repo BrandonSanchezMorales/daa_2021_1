{
  "nbformat": 4,
  "nbformat_minor": 0,
  "metadata": {
    "colab": {
      "name": "7Octubre.ipynb",
      "provenance": [],
      "collapsed_sections": [],
      "authorship_tag": "ABX9TyNmfrt7YC0jEO0XBvMGbJ6E",
      "include_colab_link": true
    },
    "kernelspec": {
      "name": "python3",
      "display_name": "Python 3"
    }
  },
  "cells": [
    {
      "cell_type": "markdown",
      "metadata": {
        "id": "view-in-github",
        "colab_type": "text"
      },
      "source": [
        "<a href=\"https://colab.research.google.com/github/BrandonSanchezMorales/daa_2021_1/blob/master/7Octubre.ipynb\" target=\"_parent\"><img src=\"https://colab.research.google.com/assets/colab-badge.svg\" alt=\"Open In Colab\"/></a>"
      ]
    },
    {
      "cell_type": "markdown",
      "metadata": {
        "id": "yYzVoRWsX70b"
      },
      "source": [
        "#Busqueda binaria\n",
        "funcion sobre un conjunto de datos lineal ordenado.\n",
        "Consiste en dicidir el conjunto en mitades y buscar en esa mitad. si el elemento  buscado no esta en la mitad, preguntas si el elemento esta a la derecha o a la izquierda. Haces la lista igual a la mitad correspondiente y repites el proceso\n",
        "\n",
        "L= [1,2,3,4,5,12,14,18,19,21,31,34,47,48,78]\n",
        "DER=longitud(L)-1\n",
        "IZQ=0\n",
        "MID apuntara a la mitad del segmento de busqueda\n",
        "\n",
        "buscado es el valor a buscar\n",
        "\n",
        "1. hacer Der = longitud( L ) -1\n",
        "2. Hacer IZq = 0\n",
        "3. Si IZQ > DER significa que hay un error en los datos\n",
        "4. Calcular MID = int(IZQ + DER)/2)\n",
        "5. Mientras L[MID] != buscado hacer\n",
        "6.    - preguntar L[MID] > buscado\n",
        "        - hacer DER = mid\n",
        "       - de lo contrario\n",
        "            - hacer IZQ = mid\n",
        "        - preguntar (DER - IZQ)  %2\n",
        "            - MID = (IZQ + ((DER-IZQ)/2))+1\n",
        "        - de lo contraario\n",
        "            -MID = IZQ+((DER -IZQ) / 2\n",
        "7. retur MID"
      ]
    },
    {
      "cell_type": "code",
      "metadata": {
        "id": "YwAd2KEiVKZ5"
      },
      "source": [
        "\"\"\"\n",
        "Busqueda lineal \n",
        "Regresa la posicion del elemento buscado si se encuentra dentro de la lista.\n",
        "Regresa -1 si el elemento buscado no existe dentro de la lista\n",
        "\"\"\"\n",
        "\n",
        "def busq_lineal (L , buscado):\n",
        "  indice = -1\n",
        "\n",
        "  for idx in range (len (L)):\n",
        "  contador +=1\n",
        "    if L [idx] == buscado:\n",
        "      indice = idx \n",
        "      break\n",
        "      print(f\"numero de comparaciones realizadas={contador}\")\n",
        "  return indice\n",
        "  \"\"\"\n",
        "  Busqueda Binaria \n",
        "  \"\"\"\n",
        "def busqueda_binaria( L , buscado)\n",
        "    IZQ = 0\n",
        "    DER =len(L)-1\n",
        "    MID = int((IZQ + DER)/2)\n",
        "    if len(L) %2 == 0:\n",
        "       MID = (DER //2)+1\n",
        "    else:\n",
        "       MID = DER //3\n",
        "       \n",
        "    while (L[MID] l= buscado):\n",
        "      if L[MID] > buscado:\n",
        "          DER = MID\n",
        "      else:\n",
        "          IZQ = MID\n",
        "      if (DER - IZQ) & 2 ==0:\n",
        "          MID = (IZQ+((DER-IZQ)//2))+1\n",
        "      else:\n",
        "          MID = IZQ + ((DER-IZQ)//2)\n",
        "    return MID\n",
        "       \n",
        "def main ():\n",
        "    datos = [ 4,18,47,2,34,14,78,12,48,21,31,19,1,3,5]\n",
        "    dato = int(input(\"Que valor deseas buscar \"))\n",
        "    resultado = busq_lineal (datos, dato)\n",
        "    print(\"Resultado: \", resultado)\n",
        "    print (\"Busqueda lineal en una lista ordenada\")\n",
        "    datos.sort()\n",
        "    print (datos)\n",
        "  \n",
        "main()"
      ],
      "execution_count": null,
      "outputs": []
    }
  ]
}