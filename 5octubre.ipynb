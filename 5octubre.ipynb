{
  "nbformat": 4,
  "nbformat_minor": 0,
  "metadata": {
    "colab": {
      "name": "5octubre.ipynb",
      "provenance": [],
      "authorship_tag": "ABX9TyOFCOiii6kDPEmZGieeUizo",
      "include_colab_link": true
    },
    "kernelspec": {
      "name": "python3",
      "display_name": "Python 3"
    }
  },
  "cells": [
    {
      "cell_type": "markdown",
      "metadata": {
        "id": "view-in-github",
        "colab_type": "text"
      },
      "source": [
        "<a href=\"https://colab.research.google.com/github/BrandonSanchezMorales/daa_2021_1/blob/master/5octubre.ipynb\" target=\"_parent\"><img src=\"https://colab.research.google.com/assets/colab-badge.svg\" alt=\"Open In Colab\"/></a>"
      ]
    },
    {
      "cell_type": "markdown",
      "metadata": {
        "id": "0JRLSEmgArJW"
      },
      "source": [
        "#Estructura de datos Pila (stack)\n",
        "-Last In First Out (LIFO)\n",
        "-De tipo lineal\n",
        "-Se pueden obtener e ingresar datos desde el tope\n",
        "-push para agregar\n",
        "-pop para sacar\n",
        "## Operaciones de las pilas\n",
        "\n",
        "1. is_empty (regresa true o false)\n",
        "2. get_top (regresa el elemento en el tope sin sacarlo)\n",
        "3. poo (saca el elemento del tope y lo regresa )\n",
        "4. push (mete un elemento en el tope\n",
        "5. get_length (regresa el numero de elementos en la pila)\n"
      ]
    },
    {
      "cell_type": "code",
      "metadata": {
        "id": "z1H9snxc_YIG",
        "outputId": "16d7e76d-62fb-4460-9ddc-8fb50085d9d2",
        "colab": {
          "base_uri": "https://localhost:8080/",
          "height": 135
        }
      },
      "source": [
        " class Stack\n",
        "  def _init_( self ):\n",
        "    self._datos= []\n",
        "\n",
        "  def is_empty( self ):\n",
        "    return len(self._datos) == 0\n",
        "    \n",
        "  def get_top( self ):\n",
        "    return self._datos[-1]\n",
        "  def pop( self ):\n",
        "    return self,_datos.pop()\n",
        "  def push (self , valor ):\n",
        "    self._datos.append(valor)\n",
        "    def get_length( self ):\n",
        "      return len(self._dato):\n",
        "  defnto_string( self ):\n",
        "    for ele in self.datos:\n",
        "      print(f\" { ele }\")    "
      ],
      "execution_count": 6,
      "outputs": [
        {
          "output_type": "error",
          "ename": "SyntaxError",
          "evalue": "ignored",
          "traceback": [
            "\u001b[0;36m  File \u001b[0;32m\"<ipython-input-6-d30999881e24>\"\u001b[0;36m, line \u001b[0;32m1\u001b[0m\n\u001b[0;31m    class Stack\u001b[0m\n\u001b[0m               ^\u001b[0m\n\u001b[0;31mSyntaxError\u001b[0m\u001b[0;31m:\u001b[0m invalid syntax\n"
          ]
        }
      ]
    },
    {
      "cell_type": "code",
      "metadata": {
        "id": "A-uCEg5lFtCA",
        "outputId": "6fd56323-6499-4fdc-dee0-ad20d13feddd",
        "colab": {
          "base_uri": "https://localhost:8080/",
          "height": 244
        }
      },
      "source": [
        "pilal = Stack()\n",
        "pilal.push(10)\n",
        "pilal.push(20)\n",
        "pilal.push(1)\n",
        "pilal.push(393)\n",
        "pilal.push(103)\n",
        "pilal.to_string()\n",
        "\n",
        "sacado = pilal.pop()\n",
        "print(sacado)\n",
        "pilal.to_string()\n",
        "\n",
        "pilal.push(444)\n",
        "pilal.push(233)\n",
        "pilal.to_string()\n",
        "\n",
        "print(f\"Elelemento en el tope es:{ pilal.get_top()}\")\n",
        "pilal.to_string()\n",
        "print(f\"La pila tiene {pilal.get_length()} elementos\")\n",
        "print(f\"¿La pila esta vacias? { pilal.is_empty() } \" )"
      ],
      "execution_count": 4,
      "outputs": [
        {
          "output_type": "error",
          "ename": "NameError",
          "evalue": "ignored",
          "traceback": [
            "\u001b[0;31m---------------------------------------------------------------------------\u001b[0m",
            "\u001b[0;31mNameError\u001b[0m                                 Traceback (most recent call last)",
            "\u001b[0;32m<ipython-input-4-5fe3776711e6>\u001b[0m in \u001b[0;36m<module>\u001b[0;34m()\u001b[0m\n\u001b[0;32m----> 1\u001b[0;31m \u001b[0mpilal\u001b[0m \u001b[0;34m=\u001b[0m \u001b[0mStack\u001b[0m\u001b[0;34m(\u001b[0m\u001b[0;34m)\u001b[0m\u001b[0;34m\u001b[0m\u001b[0;34m\u001b[0m\u001b[0m\n\u001b[0m\u001b[1;32m      2\u001b[0m \u001b[0mpilal\u001b[0m\u001b[0;34m.\u001b[0m\u001b[0mpush\u001b[0m\u001b[0;34m(\u001b[0m\u001b[0;36m10\u001b[0m\u001b[0;34m)\u001b[0m\u001b[0;34m\u001b[0m\u001b[0;34m\u001b[0m\u001b[0m\n\u001b[1;32m      3\u001b[0m \u001b[0mpilal\u001b[0m\u001b[0;34m.\u001b[0m\u001b[0mpush\u001b[0m\u001b[0;34m(\u001b[0m\u001b[0;36m20\u001b[0m\u001b[0;34m)\u001b[0m\u001b[0;34m\u001b[0m\u001b[0;34m\u001b[0m\u001b[0m\n\u001b[1;32m      4\u001b[0m \u001b[0mpilal\u001b[0m\u001b[0;34m.\u001b[0m\u001b[0mpush\u001b[0m\u001b[0;34m(\u001b[0m\u001b[0;36m1\u001b[0m\u001b[0;34m)\u001b[0m\u001b[0;34m\u001b[0m\u001b[0;34m\u001b[0m\u001b[0m\n\u001b[1;32m      5\u001b[0m \u001b[0mpilal\u001b[0m\u001b[0;34m.\u001b[0m\u001b[0mpush\u001b[0m\u001b[0;34m(\u001b[0m\u001b[0;36m393\u001b[0m\u001b[0;34m)\u001b[0m\u001b[0;34m\u001b[0m\u001b[0;34m\u001b[0m\u001b[0m\n",
            "\u001b[0;31mNameError\u001b[0m: name 'Stack' is not defined"
          ]
        }
      ]
    }
  ]
}