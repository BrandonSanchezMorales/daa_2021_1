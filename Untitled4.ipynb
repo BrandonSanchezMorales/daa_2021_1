{
  "nbformat": 4,
  "nbformat_minor": 0,
  "metadata": {
    "colab": {
      "name": "Untitled4.ipynb",
      "provenance": [],
      "authorship_tag": "ABX9TyMELaFwuAUjjfJrxaeVaPZK",
      "include_colab_link": true
    },
    "kernelspec": {
      "name": "python3",
      "display_name": "Python 3"
    }
  },
  "cells": [
    {
      "cell_type": "markdown",
      "metadata": {
        "id": "view-in-github",
        "colab_type": "text"
      },
      "source": [
        "<a href=\"https://colab.research.google.com/github/BrandonSanchezMorales/daa_2021_1/blob/master/Untitled4.ipynb\" target=\"_parent\"><img src=\"https://colab.research.google.com/assets/colab-badge.svg\" alt=\"Open In Colab\"/></a>"
      ]
    },
    {
      "cell_type": "code",
      "metadata": {
        "id": "835VhJmVMIU7"
      },
      "source": [
        "class NodoArbol:\r\n",
        "  def_init_( self , dato , hijo_izq=None , hijo_der=None):\r\n",
        "    self.dato = dato\r\n",
        "    self.dato = dato\r\n",
        "    self.dato = \r\n",
        "    class NodoArbol:\r\n",
        "    def __init__( self , dato ,  hijo_izq=None , hijo_der=None):\r\n",
        "        self.dato = dato\r\n",
        "        self.left = hijo_izq\r\n",
        "        self.right = hijo_der\r\n",
        "\r\n",
        "        self._insert_nodo_( self._root , value )\r\n",
        "def _insert_nodo"
      ],
      "execution_count": null,
      "outputs": []
    }
  ]
}